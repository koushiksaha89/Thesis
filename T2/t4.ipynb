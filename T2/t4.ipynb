{
 "metadata": {
  "language_info": {
   "codemirror_mode": {
    "name": "ipython",
    "version": 3
   },
   "file_extension": ".py",
   "mimetype": "text/x-python",
   "name": "python",
   "nbconvert_exporter": "python",
   "pygments_lexer": "ipython3",
   "version": 3
  },
  "orig_nbformat": 4
 },
 "nbformat": 4,
 "nbformat_minor": 2,
 "cells": [
  {
   "cell_type": "code",
   "execution_count": null,
   "metadata": {},
   "outputs": [],
   "source": [
    "# https://www.kdnuggets.com/2019/11/customer-segmentation-using-k-means-clustering.html\n",
    "# https://www.data-mania.com/blog/customer-profiling-and-segmentation-in-python/\n",
    "# https://www.ritchieng.com/machine-learning-project-customer-segments/\n",
    "# https://neptune.ai/blog/customer-segmentation-using-machine-learning\n",
    "# https://machinelearninggeek.com/introduction-to-customer-segmentation-in-python/\n",
    "# https://towardsdatascience.com/clustering-algorithm-for-customer-segmentation-e2d79e28cbc3"
   ]
  }
 ]
}